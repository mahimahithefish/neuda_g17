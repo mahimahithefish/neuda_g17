{
 "cells": [
  {
   "cell_type": "code",
   "execution_count": null,
   "id": "412b7589",
   "metadata": {},
   "outputs": [],
   "source": [
    "df1 = pd.read_csv('data/2019_happiness_Index.csv')\n",
    "df2 = pd.read_csv('data/economic_freedom_index2019_data.csv', encoding='latin1')\n",
    "df3 = pd.read_csv('data/IHDI.csv')\n",
    "\n",
    "# df1 happiness \n",
    "# - score\n",
    "# - gdp per capita\n",
    "# - freedom to make life choices\n",
    "# - country\n",
    "# - healthy life expectancy\n",
    "\n",
    "# df2 economic freedom \n",
    "# - 2019 score\n",
    "# - tax burden\n",
    "# - business freedom\n",
    "# - financial freedom\n",
    "# - unemployment rate\n",
    "# - country\n",
    "\n",
    "# df3 human index  \n",
    "# - hdi\n",
    "# - ihdi\n",
    "# - loss%\n",
    "\n",
    "print(len(df1.index), len(df2.index), len(df3.index))"
   ]
  },
  {
   "cell_type": "code",
   "execution_count": null,
   "id": "97e9f79d",
   "metadata": {},
   "outputs": [],
   "source": [
    "df1.head()"
   ]
  },
  {
   "cell_type": "code",
   "execution_count": null,
   "id": "98345b47",
   "metadata": {},
   "outputs": [],
   "source": [
    "df2.head()\n",
    "# df2.columns"
   ]
  },
  {
   "cell_type": "code",
   "execution_count": null,
   "id": "39c781c7",
   "metadata": {},
   "outputs": [],
   "source": [
    "df3.head()"
   ]
  },
  {
   "cell_type": "code",
   "execution_count": null,
   "id": "a5c635dd",
   "metadata": {},
   "outputs": [],
   "source": [
    "df4 = pd.merge(pd.merge(df1, df2, on='Country'), df3, on='Country')\n",
    "df4.head()\n",
    "df4.columns"
   ]
  },
  {
   "cell_type": "code",
   "execution_count": null,
   "id": "25a09d0f",
   "metadata": {},
   "outputs": [],
   "source": [
    "# df1 happiness \n",
    "# - Score\n",
    "# - GDP per capita\n",
    "# - Freedom to make life choices\n",
    "# - Country\n",
    "# - Healthy life expectancy\n",
    "\n",
    "# df2 economic freedom \n",
    "# - 2019 Score\n",
    "# - Tax Burden\n",
    "# - Business Freedom\n",
    "# - Financial Freedom\n",
    "# - Unemployment (%)\n",
    "\n",
    "# df3 human index  \n",
    "# - HDI\n",
    "# - IHDI\n",
    "# - Loss%\n"
   ]
  },
  {
   "cell_type": "code",
   "execution_count": null,
   "id": "3c5981cf",
   "metadata": {},
   "outputs": [],
   "source": [
    "import pandas as pd"
   ]
  },
  {
   "attachments": {},
   "cell_type": "markdown",
   "id": "7a93e01d",
   "metadata": {},
   "source": [
    "Data Preparation"
   ]
  },
  {
   "cell_type": "code",
   "execution_count": 121,
   "id": "f577f2ef",
   "metadata": {},
   "outputs": [
    {
     "name": "stdout",
     "output_type": "stream",
     "text": [
      "125\n"
     ]
    }
   ],
   "source": [
    "df_index = df4[['Country', 'Score', 'GDP per capita', 'Freedom to make life choices', \n",
    "                'Healthy life expectancy', '2019 Score', 'Tax Burden', 'Business Freedom',\n",
    "                'Financial Freedom', 'Unemployment (%)', 'HDI', 'IHDI', 'Loss%']]"
   ]
  },
  {
   "cell_type": "code",
   "execution_count": null,
   "id": "6755adcd",
   "metadata": {},
   "outputs": [],
   "source": [
    "df_index.head()"
   ]
  },
  {
   "cell_type": "code",
   "execution_count": null,
   "id": "9135face",
   "metadata": {},
   "outputs": [],
   "source": [
    "df_index.isna().sum()"
   ]
  },
  {
   "cell_type": "code",
   "execution_count": null,
   "id": "d4204095",
   "metadata": {},
   "outputs": [],
   "source": [
    "df_index[df_index['2019 Score'].isna()]"
   ]
  },
  {
   "cell_type": "code",
   "execution_count": null,
   "id": "68d159da",
   "metadata": {},
   "outputs": [],
   "source": [
    "# df_index.dropna(how='all', inplace=True)\n",
    "df_index.dropna(inplace=True)\n",
    "df_index\n",
    "df_index.isna().sum()"
   ]
  },
  {
   "cell_type": "code",
   "execution_count": null,
   "id": "bb7f181b",
   "metadata": {},
   "outputs": [],
   "source": [
    "df_index.isna().sum()"
   ]
  },
  {
   "cell_type": "code",
   "execution_count": null,
   "id": "02da9e3b",
   "metadata": {},
   "outputs": [],
   "source": [
    "df_index[df_index.duplicated()]"
   ]
  },
  {
   "cell_type": "code",
   "execution_count": null,
   "id": "a29ebcd9",
   "metadata": {},
   "outputs": [],
   "source": [
    "df_index.duplicated(keep=False).sum()"
   ]
  },
  {
   "cell_type": "code",
   "execution_count": null,
   "id": "53090517",
   "metadata": {},
   "outputs": [],
   "source": [
    "df_index.to_csv('final.csv', index = False, encoding='utf-8')"
   ]
  },
  {
   "cell_type": "code",
   "execution_count": null,
   "id": "bf46ec64",
   "metadata": {},
   "outputs": [],
   "source": []
  }
 ],
 "metadata": {
  "kernelspec": {
   "display_name": "Python 3 (ipykernel)",
   "language": "python",
   "name": "python3"
  },
  "language_info": {
   "codemirror_mode": {
    "name": "ipython",
    "version": 3
   },
   "file_extension": ".py",
   "mimetype": "text/x-python",
   "name": "python",
   "nbconvert_exporter": "python",
   "pygments_lexer": "ipython3",
   "version": "3.9.6"
  }
 },
 "nbformat": 4,
 "nbformat_minor": 5
}
